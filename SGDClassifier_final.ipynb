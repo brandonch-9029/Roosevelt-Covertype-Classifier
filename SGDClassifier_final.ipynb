{
 "cells": [
  {
   "cell_type": "code",
   "execution_count": 88,
   "id": "34798621-188c-4d59-81fc-b3b3f2d39f79",
   "metadata": {},
   "outputs": [],
   "source": [
    "### IMPORTS AND READ CSV\n",
    "import pandas as pd\n",
    "import numpy as np\n",
    "from matplotlib import pyplot as plt\n",
    "\n",
    "# Initialise dataframe with headers\n",
    "col_names = [\"elevation\", \"aspect\", \"slope\", \"horizontaltohydro\", \"verticaltohydro\", \"horizontaltoroadway\", \"hillshade9am\", \"hillshadenoon\", \"hillshade3pm\", \"horizontaltofirepoints\", \"wildernessareaRawah\", \"wildernessareaNeota\", \"wildernessareaComanche\", \"wildernessareaCache\", \"soil1\", \"soi2\", \"soil3\", \"soil4\", \"soil5\", \"soil6\", \"soil7\", \"soil8\", \"soil9\", \"soil10\", \"soil11\", \"soil12\", \"soil13\", \"soil14\", \"soil15\", \"soil16\", \"soil17\", \"soil18\", \"soil19\", \"soil20\", \"soil21\", \"soil22\", \"soil23\", \"soil24\", \"soil25\", \"soil26\", \"soil27\", \"soil28\", \"soil29\", \"soil30\", \"soil31\", \"soil32\", \"soil33\", \"soil34\", \"soil35\", \"soil36\", \"soil37\", \"soil38\", \"soil39\", \"soil40\", \"target\"]\n",
    "cover_data = pd.read_csv('covtype.data', sep=',', names=col_names)\n",
    "# Output dataframe contains 8124 entries"
   ]
  },
  {
   "cell_type": "code",
   "execution_count": 89,
   "id": "6c77b5f1-20a0-437d-91ba-928c8030294e",
   "metadata": {},
   "outputs": [
    {
     "data": {
      "text/html": [
       "<div>\n",
       "<style scoped>\n",
       "    .dataframe tbody tr th:only-of-type {\n",
       "        vertical-align: middle;\n",
       "    }\n",
       "\n",
       "    .dataframe tbody tr th {\n",
       "        vertical-align: top;\n",
       "    }\n",
       "\n",
       "    .dataframe thead th {\n",
       "        text-align: right;\n",
       "    }\n",
       "</style>\n",
       "<table border=\"1\" class=\"dataframe\">\n",
       "  <thead>\n",
       "    <tr style=\"text-align: right;\">\n",
       "      <th></th>\n",
       "      <th>elevation</th>\n",
       "      <th>aspect</th>\n",
       "      <th>slope</th>\n",
       "      <th>horizontaltohydro</th>\n",
       "      <th>verticaltohydro</th>\n",
       "      <th>horizontaltoroadway</th>\n",
       "      <th>hillshade9am</th>\n",
       "      <th>hillshadenoon</th>\n",
       "      <th>hillshade3pm</th>\n",
       "      <th>horizontaltofirepoints</th>\n",
       "      <th>...</th>\n",
       "      <th>soil32</th>\n",
       "      <th>soil33</th>\n",
       "      <th>soil34</th>\n",
       "      <th>soil35</th>\n",
       "      <th>soil36</th>\n",
       "      <th>soil37</th>\n",
       "      <th>soil38</th>\n",
       "      <th>soil39</th>\n",
       "      <th>soil40</th>\n",
       "      <th>target</th>\n",
       "    </tr>\n",
       "  </thead>\n",
       "  <tbody>\n",
       "    <tr>\n",
       "      <th>0</th>\n",
       "      <td>2596</td>\n",
       "      <td>51</td>\n",
       "      <td>3</td>\n",
       "      <td>258</td>\n",
       "      <td>0</td>\n",
       "      <td>510</td>\n",
       "      <td>221</td>\n",
       "      <td>232</td>\n",
       "      <td>148</td>\n",
       "      <td>6279</td>\n",
       "      <td>...</td>\n",
       "      <td>0</td>\n",
       "      <td>0</td>\n",
       "      <td>0</td>\n",
       "      <td>0</td>\n",
       "      <td>0</td>\n",
       "      <td>0</td>\n",
       "      <td>0</td>\n",
       "      <td>0</td>\n",
       "      <td>0</td>\n",
       "      <td>5</td>\n",
       "    </tr>\n",
       "    <tr>\n",
       "      <th>1</th>\n",
       "      <td>2590</td>\n",
       "      <td>56</td>\n",
       "      <td>2</td>\n",
       "      <td>212</td>\n",
       "      <td>-6</td>\n",
       "      <td>390</td>\n",
       "      <td>220</td>\n",
       "      <td>235</td>\n",
       "      <td>151</td>\n",
       "      <td>6225</td>\n",
       "      <td>...</td>\n",
       "      <td>0</td>\n",
       "      <td>0</td>\n",
       "      <td>0</td>\n",
       "      <td>0</td>\n",
       "      <td>0</td>\n",
       "      <td>0</td>\n",
       "      <td>0</td>\n",
       "      <td>0</td>\n",
       "      <td>0</td>\n",
       "      <td>5</td>\n",
       "    </tr>\n",
       "    <tr>\n",
       "      <th>2</th>\n",
       "      <td>2804</td>\n",
       "      <td>139</td>\n",
       "      <td>9</td>\n",
       "      <td>268</td>\n",
       "      <td>65</td>\n",
       "      <td>3180</td>\n",
       "      <td>234</td>\n",
       "      <td>238</td>\n",
       "      <td>135</td>\n",
       "      <td>6121</td>\n",
       "      <td>...</td>\n",
       "      <td>0</td>\n",
       "      <td>0</td>\n",
       "      <td>0</td>\n",
       "      <td>0</td>\n",
       "      <td>0</td>\n",
       "      <td>0</td>\n",
       "      <td>0</td>\n",
       "      <td>0</td>\n",
       "      <td>0</td>\n",
       "      <td>2</td>\n",
       "    </tr>\n",
       "    <tr>\n",
       "      <th>3</th>\n",
       "      <td>2785</td>\n",
       "      <td>155</td>\n",
       "      <td>18</td>\n",
       "      <td>242</td>\n",
       "      <td>118</td>\n",
       "      <td>3090</td>\n",
       "      <td>238</td>\n",
       "      <td>238</td>\n",
       "      <td>122</td>\n",
       "      <td>6211</td>\n",
       "      <td>...</td>\n",
       "      <td>0</td>\n",
       "      <td>0</td>\n",
       "      <td>0</td>\n",
       "      <td>0</td>\n",
       "      <td>0</td>\n",
       "      <td>0</td>\n",
       "      <td>0</td>\n",
       "      <td>0</td>\n",
       "      <td>0</td>\n",
       "      <td>2</td>\n",
       "    </tr>\n",
       "    <tr>\n",
       "      <th>4</th>\n",
       "      <td>2595</td>\n",
       "      <td>45</td>\n",
       "      <td>2</td>\n",
       "      <td>153</td>\n",
       "      <td>-1</td>\n",
       "      <td>391</td>\n",
       "      <td>220</td>\n",
       "      <td>234</td>\n",
       "      <td>150</td>\n",
       "      <td>6172</td>\n",
       "      <td>...</td>\n",
       "      <td>0</td>\n",
       "      <td>0</td>\n",
       "      <td>0</td>\n",
       "      <td>0</td>\n",
       "      <td>0</td>\n",
       "      <td>0</td>\n",
       "      <td>0</td>\n",
       "      <td>0</td>\n",
       "      <td>0</td>\n",
       "      <td>5</td>\n",
       "    </tr>\n",
       "    <tr>\n",
       "      <th>...</th>\n",
       "      <td>...</td>\n",
       "      <td>...</td>\n",
       "      <td>...</td>\n",
       "      <td>...</td>\n",
       "      <td>...</td>\n",
       "      <td>...</td>\n",
       "      <td>...</td>\n",
       "      <td>...</td>\n",
       "      <td>...</td>\n",
       "      <td>...</td>\n",
       "      <td>...</td>\n",
       "      <td>...</td>\n",
       "      <td>...</td>\n",
       "      <td>...</td>\n",
       "      <td>...</td>\n",
       "      <td>...</td>\n",
       "      <td>...</td>\n",
       "      <td>...</td>\n",
       "      <td>...</td>\n",
       "      <td>...</td>\n",
       "      <td>...</td>\n",
       "    </tr>\n",
       "    <tr>\n",
       "      <th>581007</th>\n",
       "      <td>2396</td>\n",
       "      <td>153</td>\n",
       "      <td>20</td>\n",
       "      <td>85</td>\n",
       "      <td>17</td>\n",
       "      <td>108</td>\n",
       "      <td>240</td>\n",
       "      <td>237</td>\n",
       "      <td>118</td>\n",
       "      <td>837</td>\n",
       "      <td>...</td>\n",
       "      <td>0</td>\n",
       "      <td>0</td>\n",
       "      <td>0</td>\n",
       "      <td>0</td>\n",
       "      <td>0</td>\n",
       "      <td>0</td>\n",
       "      <td>0</td>\n",
       "      <td>0</td>\n",
       "      <td>0</td>\n",
       "      <td>3</td>\n",
       "    </tr>\n",
       "    <tr>\n",
       "      <th>581008</th>\n",
       "      <td>2391</td>\n",
       "      <td>152</td>\n",
       "      <td>19</td>\n",
       "      <td>67</td>\n",
       "      <td>12</td>\n",
       "      <td>95</td>\n",
       "      <td>240</td>\n",
       "      <td>237</td>\n",
       "      <td>119</td>\n",
       "      <td>845</td>\n",
       "      <td>...</td>\n",
       "      <td>0</td>\n",
       "      <td>0</td>\n",
       "      <td>0</td>\n",
       "      <td>0</td>\n",
       "      <td>0</td>\n",
       "      <td>0</td>\n",
       "      <td>0</td>\n",
       "      <td>0</td>\n",
       "      <td>0</td>\n",
       "      <td>3</td>\n",
       "    </tr>\n",
       "    <tr>\n",
       "      <th>581009</th>\n",
       "      <td>2386</td>\n",
       "      <td>159</td>\n",
       "      <td>17</td>\n",
       "      <td>60</td>\n",
       "      <td>7</td>\n",
       "      <td>90</td>\n",
       "      <td>236</td>\n",
       "      <td>241</td>\n",
       "      <td>130</td>\n",
       "      <td>854</td>\n",
       "      <td>...</td>\n",
       "      <td>0</td>\n",
       "      <td>0</td>\n",
       "      <td>0</td>\n",
       "      <td>0</td>\n",
       "      <td>0</td>\n",
       "      <td>0</td>\n",
       "      <td>0</td>\n",
       "      <td>0</td>\n",
       "      <td>0</td>\n",
       "      <td>3</td>\n",
       "    </tr>\n",
       "    <tr>\n",
       "      <th>581010</th>\n",
       "      <td>2384</td>\n",
       "      <td>170</td>\n",
       "      <td>15</td>\n",
       "      <td>60</td>\n",
       "      <td>5</td>\n",
       "      <td>90</td>\n",
       "      <td>230</td>\n",
       "      <td>245</td>\n",
       "      <td>143</td>\n",
       "      <td>864</td>\n",
       "      <td>...</td>\n",
       "      <td>0</td>\n",
       "      <td>0</td>\n",
       "      <td>0</td>\n",
       "      <td>0</td>\n",
       "      <td>0</td>\n",
       "      <td>0</td>\n",
       "      <td>0</td>\n",
       "      <td>0</td>\n",
       "      <td>0</td>\n",
       "      <td>3</td>\n",
       "    </tr>\n",
       "    <tr>\n",
       "      <th>581011</th>\n",
       "      <td>2383</td>\n",
       "      <td>165</td>\n",
       "      <td>13</td>\n",
       "      <td>60</td>\n",
       "      <td>4</td>\n",
       "      <td>67</td>\n",
       "      <td>231</td>\n",
       "      <td>244</td>\n",
       "      <td>141</td>\n",
       "      <td>875</td>\n",
       "      <td>...</td>\n",
       "      <td>0</td>\n",
       "      <td>0</td>\n",
       "      <td>0</td>\n",
       "      <td>0</td>\n",
       "      <td>0</td>\n",
       "      <td>0</td>\n",
       "      <td>0</td>\n",
       "      <td>0</td>\n",
       "      <td>0</td>\n",
       "      <td>3</td>\n",
       "    </tr>\n",
       "  </tbody>\n",
       "</table>\n",
       "<p>581012 rows × 55 columns</p>\n",
       "</div>"
      ],
      "text/plain": [
       "        elevation  aspect  slope  horizontaltohydro  verticaltohydro  \\\n",
       "0            2596      51      3                258                0   \n",
       "1            2590      56      2                212               -6   \n",
       "2            2804     139      9                268               65   \n",
       "3            2785     155     18                242              118   \n",
       "4            2595      45      2                153               -1   \n",
       "...           ...     ...    ...                ...              ...   \n",
       "581007       2396     153     20                 85               17   \n",
       "581008       2391     152     19                 67               12   \n",
       "581009       2386     159     17                 60                7   \n",
       "581010       2384     170     15                 60                5   \n",
       "581011       2383     165     13                 60                4   \n",
       "\n",
       "        horizontaltoroadway  hillshade9am  hillshadenoon  hillshade3pm  \\\n",
       "0                       510           221            232           148   \n",
       "1                       390           220            235           151   \n",
       "2                      3180           234            238           135   \n",
       "3                      3090           238            238           122   \n",
       "4                       391           220            234           150   \n",
       "...                     ...           ...            ...           ...   \n",
       "581007                  108           240            237           118   \n",
       "581008                   95           240            237           119   \n",
       "581009                   90           236            241           130   \n",
       "581010                   90           230            245           143   \n",
       "581011                   67           231            244           141   \n",
       "\n",
       "        horizontaltofirepoints  ...  soil32  soil33  soil34  soil35  soil36  \\\n",
       "0                         6279  ...       0       0       0       0       0   \n",
       "1                         6225  ...       0       0       0       0       0   \n",
       "2                         6121  ...       0       0       0       0       0   \n",
       "3                         6211  ...       0       0       0       0       0   \n",
       "4                         6172  ...       0       0       0       0       0   \n",
       "...                        ...  ...     ...     ...     ...     ...     ...   \n",
       "581007                     837  ...       0       0       0       0       0   \n",
       "581008                     845  ...       0       0       0       0       0   \n",
       "581009                     854  ...       0       0       0       0       0   \n",
       "581010                     864  ...       0       0       0       0       0   \n",
       "581011                     875  ...       0       0       0       0       0   \n",
       "\n",
       "        soil37  soil38  soil39  soil40  target  \n",
       "0            0       0       0       0       5  \n",
       "1            0       0       0       0       5  \n",
       "2            0       0       0       0       2  \n",
       "3            0       0       0       0       2  \n",
       "4            0       0       0       0       5  \n",
       "...        ...     ...     ...     ...     ...  \n",
       "581007       0       0       0       0       3  \n",
       "581008       0       0       0       0       3  \n",
       "581009       0       0       0       0       3  \n",
       "581010       0       0       0       0       3  \n",
       "581011       0       0       0       0       3  \n",
       "\n",
       "[581012 rows x 55 columns]"
      ]
     },
     "execution_count": 89,
     "metadata": {},
     "output_type": "execute_result"
    }
   ],
   "source": [
    "### DATA CLEANING\n",
    "# Remove rows with ANY null values\n",
    "X1 = cover_data.dropna()\n",
    "# Output dataframe contains 581012 entries\n",
    "X1"
   ]
  },
  {
   "cell_type": "code",
   "execution_count": 90,
   "id": "d8537ae8-8685-4df7-8d66-a65832a8c17d",
   "metadata": {},
   "outputs": [],
   "source": [
    "### Cleaned training and target data, ready to encode, split, and train\n",
    "\n",
    "# Training data without the target column\n",
    "X = X1.drop(columns=[\"target\"])\n",
    "\n",
    "# Initialise target column  in new dataframe\n",
    "Y = X1[\"target\"]"
   ]
  },
  {
   "cell_type": "code",
   "execution_count": 91,
   "id": "e01176ed-f285-4825-96a7-691a102302e3",
   "metadata": {},
   "outputs": [],
   "source": [
    "from sklearn.model_selection import train_test_split\n",
    "from sklearn.pipeline import make_pipeline\n",
    "from sklearn.metrics import accuracy_score\n",
    "from sklearn.model_selection import KFold\n",
    "from sklearn.linear_model import SGDClassifier\n",
    "from sklearn.preprocessing import StandardScaler"
   ]
  },
  {
   "cell_type": "code",
   "execution_count": 33,
   "id": "95e70940-fd21-4231-bfc0-80e337264d75",
   "metadata": {},
   "outputs": [],
   "source": [
    "# split data for pre-cross validation training of SGDClassifier\n",
    "X_train, X_test, Y_train, Y_test = train_test_split(X, Y, test_size=0.2)"
   ]
  },
  {
   "cell_type": "code",
   "execution_count": 34,
   "id": "5701cbcb-d2bb-4cae-8928-97312675b12d",
   "metadata": {},
   "outputs": [
    {
     "name": "stdout",
     "output_type": "stream",
     "text": [
      "CPU times: total: 9 s\n",
      "Wall time: 8.88 s\n"
     ]
    },
    {
     "data": {
      "text/plain": [
       "0.7121502887188799"
      ]
     },
     "execution_count": 34,
     "metadata": {},
     "output_type": "execute_result"
    }
   ],
   "source": [
    "%%time\n",
    "# SGD Linear Support Vector Classifier - No Cross Validation -  max_iter = 1000\n",
    "clfSGD = make_pipeline(StandardScaler(), SGDClassifier(loss='hinge'))\n",
    "\n",
    "clfSGD.fit(X_train, Y_train)\n",
    "\n",
    "predict = clfSGD.predict(X_test)\n",
    "\n",
    "accuracy = accuracy_score(Y_test, predict)\n",
    "svc_NoCV_1k = accuracy\n",
    "#accuracy score\n",
    "svc_NoCV_1k"
   ]
  },
  {
   "cell_type": "code",
   "execution_count": 7,
   "id": "de30c66d-f9fb-405c-84a3-4c92040c9ec7",
   "metadata": {},
   "outputs": [
    {
     "name": "stdout",
     "output_type": "stream",
     "text": [
      "CPU times: total: 12.2 s\n",
      "Wall time: 10.8 s\n"
     ]
    },
    {
     "data": {
      "text/plain": [
       "0.7113241482577902"
      ]
     },
     "execution_count": 7,
     "metadata": {},
     "output_type": "execute_result"
    }
   ],
   "source": [
    "%%time\n",
    "# SGD Logistic Regression Classifier - No Cross Validation - max_iter = 1000\n",
    "clfSGDLR = make_pipeline(StandardScaler(), SGDClassifier(loss='log_loss'))\n",
    "clfSGDLR.fit(X_train, Y_train)\n",
    "\n",
    "predict = clfSGDLR.predict(X_test)\n",
    "\n",
    "accuracy = accuracy_score(Y_test, predict)\n",
    "lr_NoCV_1k = accuracy\n",
    "#accuracy score\n",
    "lr_NoCV_1k"
   ]
  },
  {
   "cell_type": "code",
   "execution_count": 8,
   "id": "a963a869-5ad7-45de-ab51-94d24402c64c",
   "metadata": {},
   "outputs": [
    {
     "name": "stdout",
     "output_type": "stream",
     "text": [
      "0.6759319816873773\n",
      "0.8422257409383498\n",
      "0.7288514827627751\n",
      "0.6937057881964166\n",
      "0.5804547253919898\n",
      "0.6488700710831139\n",
      "0.6739470921326656\n",
      "0.7264246742741088\n",
      "0.5635014887867679\n",
      "0.5842412350906181\n",
      "avg:0.6718154280344184\n",
      "CPU times: total: 2min 6s\n",
      "Wall time: 1min 53s\n"
     ]
    }
   ],
   "source": [
    "%%time\n",
    "### 10-fold Cross-validation loss hinge (linear SVC) - max_iter = 1000\n",
    "accuracy_array_10 = []\n",
    "k = 10\n",
    "kf = KFold(n_splits=k, random_state=None)\n",
    "for train_index, test_index in kf.split(X):\n",
    "    X_train, X_test = X.iloc[train_index,:], X.iloc[test_index,:]\n",
    "    Y_train, Y_test = Y[train_index], Y[test_index]\n",
    "    \n",
    "    clfSGD.fit(X_train, Y_train)\n",
    "    predict = clfSGD.predict(X_test)\n",
    "    \n",
    "    accuracy = accuracy_score(Y_test, predict)\n",
    "    print(accuracy)\n",
    "    accuracy_array_10.append(accuracy)\n",
    "\n",
    "average_accuracy_10 = sum(accuracy_array_10)/k\n",
    "svc_10fold_1k = average_accuracy_10\n",
    "\n",
    "#average accuracy score\n",
    "print(\"avg:\" + str(svc_10fold_1k))\n"
   ]
  },
  {
   "cell_type": "code",
   "execution_count": 43,
   "id": "4d4b215d-3ee0-4ab7-82a6-573b98340729",
   "metadata": {},
   "outputs": [
    {
     "name": "stdout",
     "output_type": "stream",
     "text": [
      "0.7535691849608014\n",
      "0.6955672400884658\n",
      "0.5770554723670849\n",
      "0.6870880019276777\n",
      "0.592485499388995\n",
      "avg:0.6611530797466049\n",
      "CPU times: total: 56.5 s\n",
      "Wall time: 51.1 s\n"
     ]
    }
   ],
   "source": [
    "%%time\n",
    "### 5-fold Cross-validation loss hinge (linear SVC) - max iter = 1000\n",
    "accuracy_array_5 = []\n",
    "k = 5\n",
    "kf = KFold(n_splits=k, random_state=None)\n",
    "for train_index, test_index in kf.split(X):\n",
    "    X_train, X_test = X.iloc[train_index,:], X.iloc[test_index,:]\n",
    "    Y_train, Y_test = Y[train_index], Y[test_index]\n",
    "    \n",
    "    clfSGD.fit(X_train, Y_train)\n",
    "    predict = clfSGD.predict(X_test)\n",
    "    \n",
    "    accuracy = accuracy_score(Y_test, predict)\n",
    "    print(accuracy)\n",
    "    accuracy_array_5.append(accuracy)\n",
    "\n",
    "average_accuracy_5 = sum(accuracy_array_5)/k\n",
    "svc_5fold_1k = average_accuracy_5\n",
    "\n",
    "#average accuracy score\n",
    "print(\"avg:\" + str(svc_5fold_1k))"
   ]
  },
  {
   "cell_type": "code",
   "execution_count": 10,
   "id": "59429570-4ec7-4c07-a1c5-63906319cabc",
   "metadata": {},
   "outputs": [
    {
     "name": "stdout",
     "output_type": "stream",
     "text": [
      "0.6839695707548793\n",
      "0.8361674296926096\n",
      "0.7102975852394967\n",
      "0.7107450818402438\n",
      "0.5442419235469269\n",
      "0.6203163456739127\n",
      "0.6965284590626667\n",
      "0.7455121254367395\n",
      "0.5825889399493984\n",
      "0.6200753859658181\n",
      "avg:0.6750442847162692\n",
      "CPU times: total: 2min 10s\n",
      "Wall time: 1min 56s\n"
     ]
    }
   ],
   "source": [
    "%%time\n",
    "### 10-fold Cross-validation logistic regression - max iter = 1000\n",
    "accuracy_array_10 = []\n",
    "k = 10\n",
    "kf = KFold(n_splits=k, random_state=None)\n",
    "for train_index, test_index in kf.split(X):\n",
    "    X_train, X_test = X.iloc[train_index,:], X.iloc[test_index,:]\n",
    "    Y_train, Y_test = Y[train_index], Y[test_index]\n",
    "    \n",
    "    clfSGDLR.fit(X_train, Y_train)\n",
    "    predict = clfSGDLR.predict(X_test)\n",
    "    \n",
    "    accuracy = accuracy_score(Y_test, predict)\n",
    "    print(accuracy)\n",
    "    accuracy_array_10.append(accuracy)\n",
    "\n",
    "average_accuracy_10 = sum(accuracy_array_10)/k\n",
    "lr_10fold_1k = average_accuracy_10\n",
    "\n",
    "#average accuracy score\n",
    "print(\"avg:\" + str(lr_10fold_1k))"
   ]
  },
  {
   "cell_type": "code",
   "execution_count": 11,
   "id": "ac0a637c-854b-462d-8c2a-a82acde6acc4",
   "metadata": {},
   "outputs": [
    {
     "name": "stdout",
     "output_type": "stream",
     "text": [
      "0.757932239270931\n",
      "0.7125805702090308\n",
      "0.5850415655496463\n",
      "0.6781897041359013\n",
      "0.5790778127743068\n",
      "avg:0.6625643783879632\n",
      "CPU times: total: 1min\n",
      "Wall time: 53.2 s\n"
     ]
    }
   ],
   "source": [
    "%%time\n",
    "### 5-fold Cross-validation logistic regression - max iter = 1000\n",
    "accuracy_array_5 = []\n",
    "k = 5\n",
    "kf = KFold(n_splits=k, random_state=None)\n",
    "for train_index, test_index in kf.split(X):\n",
    "    X_train, X_test = X.iloc[train_index,:], X.iloc[test_index,:]\n",
    "    Y_train, Y_test = Y[train_index], Y[test_index]\n",
    "    \n",
    "    clfSGDLR.fit(X_train, Y_train)\n",
    "    predict = clfSGDLR.predict(X_test)\n",
    "    \n",
    "    accuracy = accuracy_score(Y_test, predict)\n",
    "    print(accuracy)\n",
    "    accuracy_array_5.append(accuracy)\n",
    "\n",
    "average_accuracy_5 = sum(accuracy_array_5)/k\n",
    "lr_5fold_1k = average_accuracy_5\n",
    "\n",
    "#average accuracy score\n",
    "print(\"avg:\" + str(lr_5fold_1k))"
   ]
  },
  {
   "cell_type": "code",
   "execution_count": 12,
   "id": "1f42026e-4c60-4b4a-8094-202872b9fc17",
   "metadata": {},
   "outputs": [],
   "source": [
    "# split data again, this time to compare before/after cross validation for SGDClassifier with max_iter = 500\n",
    "X_train, X_test, Y_train, Y_test = train_test_split(X, Y, test_size=0.2)"
   ]
  },
  {
   "cell_type": "code",
   "execution_count": 13,
   "id": "bbfcb8fe-6576-4610-b536-5f61f5b2efae",
   "metadata": {},
   "outputs": [
    {
     "name": "stdout",
     "output_type": "stream",
     "text": [
      "CPU times: total: 11.4 s\n",
      "Wall time: 11.2 s\n"
     ]
    },
    {
     "data": {
      "text/plain": [
       "0.7135530063767717"
      ]
     },
     "execution_count": 13,
     "metadata": {},
     "output_type": "execute_result"
    }
   ],
   "source": [
    "%%time\n",
    "# SGD Linear Support Vector Classifier - No Cross Validation - max_iter = 500\n",
    "clfSGD500 = make_pipeline(StandardScaler(), SGDClassifier(loss='hinge',max_iter=500))\n",
    "\n",
    "clfSGD500.fit(X_train, Y_train)\n",
    "\n",
    "predict = clfSGD500.predict(X_test)\n",
    "\n",
    "accuracy = accuracy_score(Y_test, predict)\n",
    "svc_NoCV_500 = accuracy\n",
    "\n",
    "#accuracy score\n",
    "svc_NoCV_500"
   ]
  },
  {
   "cell_type": "code",
   "execution_count": 14,
   "id": "d75f0ef9-57a0-44f4-b4ca-65bc5880bf20",
   "metadata": {},
   "outputs": [
    {
     "name": "stdout",
     "output_type": "stream",
     "text": [
      "CPU times: total: 11.8 s\n",
      "Wall time: 10.6 s\n",
      "Compiler : 125 ms\n"
     ]
    },
    {
     "data": {
      "text/plain": [
       "0.713742330232438"
      ]
     },
     "execution_count": 14,
     "metadata": {},
     "output_type": "execute_result"
    }
   ],
   "source": [
    "%%time\n",
    "# SGD Logistic Regression Classifier - No Cross Validation - max_iter = 500\n",
    "clfSGDLR500 = make_pipeline(StandardScaler(), SGDClassifier(loss='log_loss',max_iter=500))\n",
    "\n",
    "clfSGDLR500.fit(X_train, Y_train)\n",
    "\n",
    "predict = clfSGDLR500.predict(X_test)\n",
    "\n",
    "accuracy = accuracy_score(Y_test, predict)\n",
    "lr_NoCV_500 = accuracy\n",
    "\n",
    "#accuracy score\n",
    "lr_NoCV_500"
   ]
  },
  {
   "cell_type": "code",
   "execution_count": 15,
   "id": "f689daa7-6819-434f-888a-083ff553b05b",
   "metadata": {},
   "outputs": [
    {
     "name": "stdout",
     "output_type": "stream",
     "text": [
      "0.6744862483219166\n",
      "0.8421224742693884\n",
      "0.7245830536479578\n",
      "0.6935853083423693\n",
      "0.6329323075334332\n",
      "0.614498889864202\n",
      "0.6945491471747475\n",
      "0.7179910844908005\n",
      "0.5514707147897626\n",
      "0.5811431817008313\n",
      "avg:0.6727362410135409\n",
      "CPU times: total: 2min 5s\n",
      "Wall time: 1min 51s\n"
     ]
    }
   ],
   "source": [
    "%%time\n",
    "### 10-fold Cross-validation loss hinge (linear SVC) - max_iter = 500\n",
    "accuracy_array_10 = []\n",
    "k = 10\n",
    "kf = KFold(n_splits=k, random_state=None)\n",
    "for train_index, test_index in kf.split(X):\n",
    "    X_train, X_test = X.iloc[train_index,:], X.iloc[test_index,:]\n",
    "    Y_train, Y_test = Y[train_index], Y[test_index]\n",
    "    \n",
    "    clfSGD500.fit(X_train, Y_train)\n",
    "    predict = clfSGD500.predict(X_test)\n",
    "    \n",
    "    accuracy = accuracy_score(Y_test, predict)\n",
    "    print(accuracy)\n",
    "    accuracy_array_10.append(accuracy)\n",
    "\n",
    "average_accuracy_10 = sum(accuracy_array_10)/k\n",
    "svc_10fold_500 = average_accuracy_10\n",
    "\n",
    "#average accuracy score\n",
    "print(\"avg:\" + str(svc_10fold_500))"
   ]
  },
  {
   "cell_type": "code",
   "execution_count": 16,
   "id": "3d27c2e1-a5a7-4246-a61c-12e45fb3a3a7",
   "metadata": {},
   "outputs": [
    {
     "name": "stdout",
     "output_type": "stream",
     "text": [
      "0.7426142182215606\n",
      "0.7106356978735489\n",
      "0.5655238291939898\n",
      "0.6964940362472246\n",
      "0.5882773102012013\n",
      "avg:0.6607090183475051\n",
      "CPU times: total: 56.9 s\n",
      "Wall time: 50 s\n"
     ]
    }
   ],
   "source": [
    "%%time\n",
    "### 5-fold Cross-validation loss hinge (linear SVC)- max_iter = 500\n",
    "accuracy_array_5 = []\n",
    "k = 5\n",
    "kf = KFold(n_splits=k, random_state=None)\n",
    "for train_index, test_index in kf.split(X):\n",
    "    X_train, X_test = X.iloc[train_index,:], X.iloc[test_index,:]\n",
    "    Y_train, Y_test = Y[train_index], Y[test_index]\n",
    "    \n",
    "    clfSGD500.fit(X_train, Y_train)\n",
    "    predict = clfSGD500.predict(X_test)\n",
    "    \n",
    "    accuracy = accuracy_score(Y_test, predict)\n",
    "    print(accuracy)\n",
    "    accuracy_array_5.append(accuracy)\n",
    "\n",
    "average_accuracy_5 = sum(accuracy_array_5)/k\n",
    "svc_5fold_500 = average_accuracy_5\n",
    "\n",
    "#average accuracy score\n",
    "print(\"avg:\" + str(svc_5fold_500))"
   ]
  },
  {
   "cell_type": "code",
   "execution_count": 17,
   "id": "75ec09a5-07a8-488b-aace-406f81cdf306",
   "metadata": {},
   "outputs": [
    {
     "name": "stdout",
     "output_type": "stream",
     "text": [
      "0.709941137998692\n",
      "0.8292313517606967\n",
      "0.7264246742741088\n",
      "0.7042735925371336\n",
      "0.5702139377979725\n",
      "0.6398512934372902\n",
      "0.6855992151598079\n",
      "0.7165281148345123\n",
      "0.5715736390079345\n",
      "0.6217965267379219\n",
      "avg:0.6775433483546071\n",
      "CPU times: total: 2min 9s\n",
      "Wall time: 1min 55s\n"
     ]
    }
   ],
   "source": [
    "%%time\n",
    "### 10-fold Cross-validation logistic regression - max_iter = 500\n",
    "accuracy_array_10 = []\n",
    "k = 10\n",
    "kf = KFold(n_splits=k, random_state=None)\n",
    "for train_index, test_index in kf.split(X):\n",
    "    X_train, X_test = X.iloc[train_index,:], X.iloc[test_index,:]\n",
    "    Y_train, Y_test = Y[train_index], Y[test_index]\n",
    "    \n",
    "    clfSGDLR500.fit(X_train, Y_train)\n",
    "    predict = clfSGDLR500.predict(X_test)\n",
    "    \n",
    "    accuracy = accuracy_score(Y_test, predict)\n",
    "    print(accuracy)\n",
    "    accuracy_array_10.append(accuracy)\n",
    "\n",
    "average_accuracy_10 = sum(accuracy_array_10)/k\n",
    "lr_10fold_500 = average_accuracy_10\n",
    "\n",
    "#average accuracy score\n",
    "print(\"avg:\" + str(lr_10fold_500))"
   ]
  },
  {
   "cell_type": "code",
   "execution_count": 18,
   "id": "35e2d619-a094-4ce6-9ba6-bf84043fb259",
   "metadata": {},
   "outputs": [
    {
     "name": "stdout",
     "output_type": "stream",
     "text": [
      "0.7350326583651025\n",
      "0.7084068397545674\n",
      "0.598922565876663\n",
      "0.6897127416051358\n",
      "0.5961601349374366\n",
      "avg:0.6656469881077811\n",
      "CPU times: total: 58.9 s\n",
      "Wall time: 52.1 s\n"
     ]
    }
   ],
   "source": [
    "%%time\n",
    "### 5-fold Cross-validation logistic regression - max_iter = 500\n",
    "accuracy_array_5 = []\n",
    "k = 5\n",
    "kf = KFold(n_splits=k, random_state=None)\n",
    "for train_index, test_index in kf.split(X):\n",
    "    X_train, X_test = X.iloc[train_index,:], X.iloc[test_index,:]\n",
    "    Y_train, Y_test = Y[train_index], Y[test_index]\n",
    "    \n",
    "    clfSGDLR500.fit(X_train, Y_train)\n",
    "    predict = clfSGDLR500.predict(X_test)\n",
    "    \n",
    "    accuracy = accuracy_score(Y_test, predict)\n",
    "    print(accuracy)\n",
    "    accuracy_array_5.append(accuracy)\n",
    "\n",
    "average_accuracy_5 = sum(accuracy_array_5)/k\n",
    "lr_5fold_500 = average_accuracy_5\n",
    "\n",
    "#average accuracy score\n",
    "print(\"avg:\" + str(lr_5fold_500))"
   ]
  },
  {
   "cell_type": "code",
   "execution_count": 19,
   "id": "b5cd88c7-e370-49ae-9ef8-f135255e6f24",
   "metadata": {},
   "outputs": [
    {
     "name": "stdout",
     "output_type": "stream",
     "text": [
      "LR No CV 1000: 0.7113241482577902\n",
      "LR No CV 500: 0.713742330232438\n",
      "LR 5Fold 1000: 0.6625643783879632\n",
      "LR 5Fold 500: 0.6656469881077811\n",
      "LR 10fold 1000: 0.6750442847162692\n",
      "LR 10fold 500: 0.6775433483546071\n",
      "SVC No CV 1000: 0.7165219486588126\n",
      "SVC No CV 500: 0.7135530063767717\n",
      "SVC 5fold 1000: 0.6656073776976541\n",
      "SVC 5fold 500: 0.6607090183475051\n",
      "SVC 10fold 1000: 0.6718154280344184\n",
      "SVC 10fold 500: 0.6727362410135409\n"
     ]
    }
   ],
   "source": [
    "# Print all the manual cross-validation scores for transfer to report\n",
    "print(\"LR No CV 1000: \" + str(lr_NoCV_1k))\n",
    "print(\"LR No CV 500: \" + str(lr_NoCV_500))\n",
    "print(\"LR 5Fold 1000: \" + str(lr_5fold_1k))\n",
    "print(\"LR 5Fold 500: \" + str(lr_5fold_500))\n",
    "print(\"LR 10fold 1000: \" + str(lr_10fold_1k))\n",
    "print(\"LR 10fold 500: \" + str(lr_10fold_500))\n",
    "\n",
    "print(\"SVC No CV 1000: \" + str(svc_NoCV_1k))\n",
    "print(\"SVC No CV 500: \" + str(svc_NoCV_500))\n",
    "print(\"SVC 5fold 1000: \" + str(svc_5fold_1k))\n",
    "print(\"SVC 5fold 500: \" + str(svc_5fold_500))\n",
    "print(\"SVC 10fold 1000: \" + str(svc_10fold_1k))\n",
    "print(\"SVC 10fold 500: \" + str(svc_10fold_500))\n"
   ]
  },
  {
   "cell_type": "code",
   "execution_count": null,
   "id": "6a404f96-513e-4b01-9a6e-d33c1af063d3",
   "metadata": {},
   "outputs": [],
   "source": [
    "### GridSearchCV Hyperparameter Search\n",
    "### Now that experimentation is over, it is time to use GridSearchCV to find params for the final optimised model"
   ]
  },
  {
   "cell_type": "code",
   "execution_count": 92,
   "id": "8638f430-96a0-4260-b79c-9097af87b363",
   "metadata": {},
   "outputs": [],
   "source": [
    "# Apply standardscaler on the quantitative attributes\n",
    "scaler = StandardScaler()\n",
    "scaler.fit(X)\n",
    "X = scaler.transform(X)"
   ]
  },
  {
   "cell_type": "code",
   "execution_count": 93,
   "id": "d4dde12b-0d74-4425-96b9-d58a7a7339e5",
   "metadata": {},
   "outputs": [],
   "source": [
    "# Perform train_test_split again with specific random state for reproducibility\n",
    "X_train, X_test, Y_train, Y_test = train_test_split(X, Y, test_size=0.2, random_state=999)"
   ]
  },
  {
   "cell_type": "code",
   "execution_count": 94,
   "id": "fc50519e-1510-48bb-bdc1-27d75d8465d5",
   "metadata": {},
   "outputs": [],
   "source": [
    "### create a new SGDClassifer with no params for Grid Search\n",
    "clfNoParams = SGDClassifier(random_state = 999)"
   ]
  },
  {
   "cell_type": "code",
   "execution_count": 95,
   "id": "1a0c3696-2b74-4af8-aa7c-520ce4ba6341",
   "metadata": {},
   "outputs": [],
   "source": [
    "### Search Space of the Grid Search\n",
    "search_space = {\n",
    "    \"loss\" : [\"hinge\", \"log_loss\"],\n",
    "    \"penalty\" : [\"l2\", \"l1\", \"elasticnet\"],\n",
    "}\n"
   ]
  },
  {
   "cell_type": "code",
   "execution_count": 96,
   "id": "8ab7b1af-7b46-4980-9c0c-c8a468168634",
   "metadata": {},
   "outputs": [],
   "source": [
    "from sklearn.model_selection import GridSearchCV\n",
    "\n",
    "### Create a GridSearchCV with 10-fold cross-validation, score by accuracy\n",
    "GS = GridSearchCV(estimator = clfNoParams,\n",
    "                  param_grid = search_space,\n",
    "                  scoring = [\"accuracy\"],\n",
    "                  refit = \"accuracy\",\n",
    "                  cv = 10,\n",
    "                  verbose = 4\n",
    ")"
   ]
  },
  {
   "cell_type": "code",
   "execution_count": 97,
   "id": "96c85a29-d835-4440-a01a-50ab7440f90b",
   "metadata": {},
   "outputs": [
    {
     "name": "stdout",
     "output_type": "stream",
     "text": [
      "Fitting 10 folds for each of 6 candidates, totalling 60 fits\n",
      "[CV 1/10] END .loss=hinge, penalty=l2; accuracy: (test=0.710) total time=   9.7s\n",
      "[CV 2/10] END .loss=hinge, penalty=l2; accuracy: (test=0.716) total time=   8.5s\n",
      "[CV 3/10] END .loss=hinge, penalty=l2; accuracy: (test=0.712) total time=   8.0s\n",
      "[CV 4/10] END .loss=hinge, penalty=l2; accuracy: (test=0.716) total time=   8.0s\n",
      "[CV 5/10] END .loss=hinge, penalty=l2; accuracy: (test=0.708) total time=   8.2s\n",
      "[CV 6/10] END .loss=hinge, penalty=l2; accuracy: (test=0.713) total time=   8.3s\n",
      "[CV 7/10] END .loss=hinge, penalty=l2; accuracy: (test=0.715) total time=   8.1s\n",
      "[CV 8/10] END .loss=hinge, penalty=l2; accuracy: (test=0.711) total time=   8.9s\n",
      "[CV 9/10] END .loss=hinge, penalty=l2; accuracy: (test=0.709) total time=   8.2s\n",
      "[CV 10/10] END loss=hinge, penalty=l2; accuracy: (test=0.708) total time=   8.4s\n",
      "[CV 1/10] END .loss=hinge, penalty=l1; accuracy: (test=0.712) total time=  21.2s\n",
      "[CV 2/10] END .loss=hinge, penalty=l1; accuracy: (test=0.718) total time=  21.4s\n",
      "[CV 3/10] END .loss=hinge, penalty=l1; accuracy: (test=0.711) total time=  22.8s\n",
      "[CV 4/10] END .loss=hinge, penalty=l1; accuracy: (test=0.717) total time=  19.4s\n",
      "[CV 5/10] END .loss=hinge, penalty=l1; accuracy: (test=0.711) total time=  22.9s\n",
      "[CV 6/10] END .loss=hinge, penalty=l1; accuracy: (test=0.706) total time=  17.2s\n",
      "[CV 7/10] END .loss=hinge, penalty=l1; accuracy: (test=0.712) total time=  19.3s\n",
      "[CV 8/10] END .loss=hinge, penalty=l1; accuracy: (test=0.712) total time=  19.6s\n",
      "[CV 9/10] END .loss=hinge, penalty=l1; accuracy: (test=0.712) total time=  23.7s\n",
      "[CV 10/10] END loss=hinge, penalty=l1; accuracy: (test=0.714) total time=  23.8s\n",
      "[CV 1/10] END loss=hinge, penalty=elasticnet; accuracy: (test=0.712) total time=  11.8s\n",
      "[CV 2/10] END loss=hinge, penalty=elasticnet; accuracy: (test=0.716) total time=  12.7s\n",
      "[CV 3/10] END loss=hinge, penalty=elasticnet; accuracy: (test=0.711) total time=  11.9s\n",
      "[CV 4/10] END loss=hinge, penalty=elasticnet; accuracy: (test=0.713) total time=  12.1s\n",
      "[CV 5/10] END loss=hinge, penalty=elasticnet; accuracy: (test=0.709) total time=  11.8s\n",
      "[CV 6/10] END loss=hinge, penalty=elasticnet; accuracy: (test=0.711) total time=  12.2s\n",
      "[CV 7/10] END loss=hinge, penalty=elasticnet; accuracy: (test=0.711) total time=  12.4s\n",
      "[CV 8/10] END loss=hinge, penalty=elasticnet; accuracy: (test=0.712) total time=  12.1s\n",
      "[CV 9/10] END loss=hinge, penalty=elasticnet; accuracy: (test=0.709) total time=  11.7s\n",
      "[CV 10/10] END loss=hinge, penalty=elasticnet; accuracy: (test=0.709) total time=  12.5s\n",
      "[CV 1/10] END loss=log_loss, penalty=l2; accuracy: (test=0.712) total time=   8.2s\n",
      "[CV 2/10] END loss=log_loss, penalty=l2; accuracy: (test=0.713) total time=   8.6s\n",
      "[CV 3/10] END loss=log_loss, penalty=l2; accuracy: (test=0.714) total time=   8.2s\n",
      "[CV 4/10] END loss=log_loss, penalty=l2; accuracy: (test=0.719) total time=   8.3s\n",
      "[CV 5/10] END loss=log_loss, penalty=l2; accuracy: (test=0.710) total time=   8.2s\n",
      "[CV 6/10] END loss=log_loss, penalty=l2; accuracy: (test=0.712) total time=   8.5s\n",
      "[CV 7/10] END loss=log_loss, penalty=l2; accuracy: (test=0.712) total time=   8.6s\n",
      "[CV 8/10] END loss=log_loss, penalty=l2; accuracy: (test=0.709) total time=   9.1s\n",
      "[CV 9/10] END loss=log_loss, penalty=l2; accuracy: (test=0.710) total time=   8.9s\n",
      "[CV 10/10] END loss=log_loss, penalty=l2; accuracy: (test=0.712) total time=   8.4s\n",
      "[CV 1/10] END loss=log_loss, penalty=l1; accuracy: (test=0.714) total time=  22.5s\n",
      "[CV 2/10] END loss=log_loss, penalty=l1; accuracy: (test=0.716) total time=  24.1s\n",
      "[CV 3/10] END loss=log_loss, penalty=l1; accuracy: (test=0.714) total time=  28.2s\n",
      "[CV 4/10] END loss=log_loss, penalty=l1; accuracy: (test=0.719) total time=  21.9s\n",
      "[CV 5/10] END loss=log_loss, penalty=l1; accuracy: (test=0.712) total time=  26.3s\n",
      "[CV 6/10] END loss=log_loss, penalty=l1; accuracy: (test=0.713) total time=  15.0s\n",
      "[CV 7/10] END loss=log_loss, penalty=l1; accuracy: (test=0.714) total time=  22.2s\n",
      "[CV 8/10] END loss=log_loss, penalty=l1; accuracy: (test=0.711) total time=  19.9s\n",
      "[CV 9/10] END loss=log_loss, penalty=l1; accuracy: (test=0.712) total time=  24.0s\n",
      "[CV 10/10] END loss=log_loss, penalty=l1; accuracy: (test=0.713) total time=  20.1s\n",
      "[CV 1/10] END loss=log_loss, penalty=elasticnet; accuracy: (test=0.714) total time=  12.0s\n",
      "[CV 2/10] END loss=log_loss, penalty=elasticnet; accuracy: (test=0.716) total time=  11.2s\n",
      "[CV 3/10] END loss=log_loss, penalty=elasticnet; accuracy: (test=0.714) total time=  11.3s\n",
      "[CV 4/10] END loss=log_loss, penalty=elasticnet; accuracy: (test=0.720) total time=  11.3s\n",
      "[CV 5/10] END loss=log_loss, penalty=elasticnet; accuracy: (test=0.711) total time=  11.0s\n",
      "[CV 6/10] END loss=log_loss, penalty=elasticnet; accuracy: (test=0.715) total time=  11.5s\n",
      "[CV 7/10] END loss=log_loss, penalty=elasticnet; accuracy: (test=0.716) total time=  11.2s\n",
      "[CV 8/10] END loss=log_loss, penalty=elasticnet; accuracy: (test=0.715) total time=  11.5s\n",
      "[CV 9/10] END loss=log_loss, penalty=elasticnet; accuracy: (test=0.713) total time=  11.0s\n",
      "[CV 10/10] END loss=log_loss, penalty=elasticnet; accuracy: (test=0.714) total time=  10.9s\n"
     ]
    },
    {
     "data": {
      "text/html": [
       "<style>#sk-container-id-3 {color: black;background-color: white;}#sk-container-id-3 pre{padding: 0;}#sk-container-id-3 div.sk-toggleable {background-color: white;}#sk-container-id-3 label.sk-toggleable__label {cursor: pointer;display: block;width: 100%;margin-bottom: 0;padding: 0.3em;box-sizing: border-box;text-align: center;}#sk-container-id-3 label.sk-toggleable__label-arrow:before {content: \"▸\";float: left;margin-right: 0.25em;color: #696969;}#sk-container-id-3 label.sk-toggleable__label-arrow:hover:before {color: black;}#sk-container-id-3 div.sk-estimator:hover label.sk-toggleable__label-arrow:before {color: black;}#sk-container-id-3 div.sk-toggleable__content {max-height: 0;max-width: 0;overflow: hidden;text-align: left;background-color: #f0f8ff;}#sk-container-id-3 div.sk-toggleable__content pre {margin: 0.2em;color: black;border-radius: 0.25em;background-color: #f0f8ff;}#sk-container-id-3 input.sk-toggleable__control:checked~div.sk-toggleable__content {max-height: 200px;max-width: 100%;overflow: auto;}#sk-container-id-3 input.sk-toggleable__control:checked~label.sk-toggleable__label-arrow:before {content: \"▾\";}#sk-container-id-3 div.sk-estimator input.sk-toggleable__control:checked~label.sk-toggleable__label {background-color: #d4ebff;}#sk-container-id-3 div.sk-label input.sk-toggleable__control:checked~label.sk-toggleable__label {background-color: #d4ebff;}#sk-container-id-3 input.sk-hidden--visually {border: 0;clip: rect(1px 1px 1px 1px);clip: rect(1px, 1px, 1px, 1px);height: 1px;margin: -1px;overflow: hidden;padding: 0;position: absolute;width: 1px;}#sk-container-id-3 div.sk-estimator {font-family: monospace;background-color: #f0f8ff;border: 1px dotted black;border-radius: 0.25em;box-sizing: border-box;margin-bottom: 0.5em;}#sk-container-id-3 div.sk-estimator:hover {background-color: #d4ebff;}#sk-container-id-3 div.sk-parallel-item::after {content: \"\";width: 100%;border-bottom: 1px solid gray;flex-grow: 1;}#sk-container-id-3 div.sk-label:hover label.sk-toggleable__label {background-color: #d4ebff;}#sk-container-id-3 div.sk-serial::before {content: \"\";position: absolute;border-left: 1px solid gray;box-sizing: border-box;top: 0;bottom: 0;left: 50%;z-index: 0;}#sk-container-id-3 div.sk-serial {display: flex;flex-direction: column;align-items: center;background-color: white;padding-right: 0.2em;padding-left: 0.2em;position: relative;}#sk-container-id-3 div.sk-item {position: relative;z-index: 1;}#sk-container-id-3 div.sk-parallel {display: flex;align-items: stretch;justify-content: center;background-color: white;position: relative;}#sk-container-id-3 div.sk-item::before, #sk-container-id-3 div.sk-parallel-item::before {content: \"\";position: absolute;border-left: 1px solid gray;box-sizing: border-box;top: 0;bottom: 0;left: 50%;z-index: -1;}#sk-container-id-3 div.sk-parallel-item {display: flex;flex-direction: column;z-index: 1;position: relative;background-color: white;}#sk-container-id-3 div.sk-parallel-item:first-child::after {align-self: flex-end;width: 50%;}#sk-container-id-3 div.sk-parallel-item:last-child::after {align-self: flex-start;width: 50%;}#sk-container-id-3 div.sk-parallel-item:only-child::after {width: 0;}#sk-container-id-3 div.sk-dashed-wrapped {border: 1px dashed gray;margin: 0 0.4em 0.5em 0.4em;box-sizing: border-box;padding-bottom: 0.4em;background-color: white;}#sk-container-id-3 div.sk-label label {font-family: monospace;font-weight: bold;display: inline-block;line-height: 1.2em;}#sk-container-id-3 div.sk-label-container {text-align: center;}#sk-container-id-3 div.sk-container {/* jupyter's `normalize.less` sets `[hidden] { display: none; }` but bootstrap.min.css set `[hidden] { display: none !important; }` so we also need the `!important` here to be able to override the default hidden behavior on the sphinx rendered scikit-learn.org. See: https://github.com/scikit-learn/scikit-learn/issues/21755 */display: inline-block !important;position: relative;}#sk-container-id-3 div.sk-text-repr-fallback {display: none;}</style><div id=\"sk-container-id-3\" class=\"sk-top-container\"><div class=\"sk-text-repr-fallback\"><pre>GridSearchCV(cv=10, estimator=SGDClassifier(random_state=999),\n",
       "             param_grid={&#x27;loss&#x27;: [&#x27;hinge&#x27;, &#x27;log_loss&#x27;],\n",
       "                         &#x27;penalty&#x27;: [&#x27;l2&#x27;, &#x27;l1&#x27;, &#x27;elasticnet&#x27;]},\n",
       "             refit=&#x27;accuracy&#x27;, scoring=[&#x27;accuracy&#x27;], verbose=4)</pre><b>In a Jupyter environment, please rerun this cell to show the HTML representation or trust the notebook. <br />On GitHub, the HTML representation is unable to render, please try loading this page with nbviewer.org.</b></div><div class=\"sk-container\" hidden><div class=\"sk-item sk-dashed-wrapped\"><div class=\"sk-label-container\"><div class=\"sk-label sk-toggleable\"><input class=\"sk-toggleable__control sk-hidden--visually\" id=\"sk-estimator-id-7\" type=\"checkbox\" ><label for=\"sk-estimator-id-7\" class=\"sk-toggleable__label sk-toggleable__label-arrow\">GridSearchCV</label><div class=\"sk-toggleable__content\"><pre>GridSearchCV(cv=10, estimator=SGDClassifier(random_state=999),\n",
       "             param_grid={&#x27;loss&#x27;: [&#x27;hinge&#x27;, &#x27;log_loss&#x27;],\n",
       "                         &#x27;penalty&#x27;: [&#x27;l2&#x27;, &#x27;l1&#x27;, &#x27;elasticnet&#x27;]},\n",
       "             refit=&#x27;accuracy&#x27;, scoring=[&#x27;accuracy&#x27;], verbose=4)</pre></div></div></div><div class=\"sk-parallel\"><div class=\"sk-parallel-item\"><div class=\"sk-item\"><div class=\"sk-label-container\"><div class=\"sk-label sk-toggleable\"><input class=\"sk-toggleable__control sk-hidden--visually\" id=\"sk-estimator-id-8\" type=\"checkbox\" ><label for=\"sk-estimator-id-8\" class=\"sk-toggleable__label sk-toggleable__label-arrow\">estimator: SGDClassifier</label><div class=\"sk-toggleable__content\"><pre>SGDClassifier(random_state=999)</pre></div></div></div><div class=\"sk-serial\"><div class=\"sk-item\"><div class=\"sk-estimator sk-toggleable\"><input class=\"sk-toggleable__control sk-hidden--visually\" id=\"sk-estimator-id-9\" type=\"checkbox\" ><label for=\"sk-estimator-id-9\" class=\"sk-toggleable__label sk-toggleable__label-arrow\">SGDClassifier</label><div class=\"sk-toggleable__content\"><pre>SGDClassifier(random_state=999)</pre></div></div></div></div></div></div></div></div></div></div>"
      ],
      "text/plain": [
       "GridSearchCV(cv=10, estimator=SGDClassifier(random_state=999),\n",
       "             param_grid={'loss': ['hinge', 'log_loss'],\n",
       "                         'penalty': ['l2', 'l1', 'elasticnet']},\n",
       "             refit='accuracy', scoring=['accuracy'], verbose=4)"
      ]
     },
     "execution_count": 97,
     "metadata": {},
     "output_type": "execute_result"
    }
   ],
   "source": [
    "#fit the Grid Search on the training data we partitioned earlier\n",
    "\n",
    "GS.fit(X_train,Y_train)"
   ]
  },
  {
   "cell_type": "code",
   "execution_count": 98,
   "id": "18400632-dbb4-475b-b24a-c3b4a60a811b",
   "metadata": {},
   "outputs": [
    {
     "data": {
      "text/plain": [
       "{'loss': 'log_loss', 'penalty': 'elasticnet'}"
      ]
     },
     "execution_count": 98,
     "metadata": {},
     "output_type": "execute_result"
    }
   ],
   "source": [
    "# Show the best parameters identified\n",
    "\n",
    "GS.best_params_"
   ]
  },
  {
   "cell_type": "code",
   "execution_count": 99,
   "id": "238e6859-991a-4b66-90c9-9365bc05bea3",
   "metadata": {},
   "outputs": [
    {
     "data": {
      "text/plain": [
       "0.7146569859518414"
      ]
     },
     "execution_count": 99,
     "metadata": {},
     "output_type": "execute_result"
    }
   ],
   "source": [
    "# Show the best score of the GridSearchCV\n",
    "\n",
    "GS.best_score_"
   ]
  },
  {
   "cell_type": "code",
   "execution_count": 101,
   "id": "ab6c8084-d1a5-42eb-afc2-d9a0c3669fb0",
   "metadata": {},
   "outputs": [
    {
     "data": {
      "text/plain": [
       "{'mean_fit_time': array([ 8.51451635, 21.22952065, 12.23272917,  8.58736007, 22.50823865,\n",
       "        11.36811037]),\n",
       " 'std_fit_time': array([0.48773639, 2.09518468, 0.31744035, 0.28340502, 3.46417552,\n",
       "        0.30816094]),\n",
       " 'mean_score_time': array([0.00926414, 0.00909824, 0.00939925, 0.00939932, 0.00920906,\n",
       "        0.00961716]),\n",
       " 'std_score_time': array([0.00049167, 0.00053786, 0.00066527, 0.00048842, 0.00043757,\n",
       "        0.00050641]),\n",
       " 'param_loss': masked_array(data=['hinge', 'hinge', 'hinge', 'log_loss', 'log_loss',\n",
       "                    'log_loss'],\n",
       "              mask=[False, False, False, False, False, False],\n",
       "        fill_value='?',\n",
       "             dtype=object),\n",
       " 'param_penalty': masked_array(data=['l2', 'l1', 'elasticnet', 'l2', 'l1', 'elasticnet'],\n",
       "              mask=[False, False, False, False, False, False],\n",
       "        fill_value='?',\n",
       "             dtype=object),\n",
       " 'params': [{'loss': 'hinge', 'penalty': 'l2'},\n",
       "  {'loss': 'hinge', 'penalty': 'l1'},\n",
       "  {'loss': 'hinge', 'penalty': 'elasticnet'},\n",
       "  {'loss': 'log_loss', 'penalty': 'l2'},\n",
       "  {'loss': 'log_loss', 'penalty': 'l1'},\n",
       "  {'loss': 'log_loss', 'penalty': 'elasticnet'}],\n",
       " 'split0_test_accuracy': array([0.71022568, 0.71188227, 0.71205439, 0.71224802, 0.71422732,\n",
       "        0.71424883]),\n",
       " 'split1_test_accuracy': array([0.71564725, 0.71766959, 0.71579785, 0.71263527, 0.71635722,\n",
       "        0.71566877]),\n",
       " 'split2_test_accuracy': array([0.71188227, 0.71106474, 0.71078505, 0.71386158, 0.71416278,\n",
       "        0.71377552]),\n",
       " 'split3_test_accuracy': array([0.71579785, 0.71674448, 0.71343129, 0.71911103, 0.71911103,\n",
       "        0.71964889]),\n",
       " 'split4_test_accuracy': array([0.70773004, 0.71078505, 0.70852606, 0.70998903, 0.7117747 ,\n",
       "        0.71052688]),\n",
       " 'split5_test_accuracy': array([0.71254921, 0.70592285, 0.71074202, 0.7122265 , 0.71325918,\n",
       "        0.7148082 ]),\n",
       " 'split6_test_accuracy': array([0.71523848, 0.71179622, 0.71084959, 0.7119253 , 0.7143564 ,\n",
       "        0.71631419]),\n",
       " 'split7_test_accuracy': array([0.71145199, 0.71188227, 0.7120759 , 0.70917149, 0.71089262,\n",
       "        0.7146576 ]),\n",
       " 'split8_test_accuracy': array([0.7093436 , 0.71224802, 0.70910695, 0.70953723, 0.71203287,\n",
       "        0.7132807 ]),\n",
       " 'split9_test_accuracy': array([0.70826162, 0.71364028, 0.7089716 , 0.71232788, 0.71303787,\n",
       "        0.71364028]),\n",
       " 'mean_test_accuracy': array([0.7118128 , 0.71236358, 0.71123407, 0.71230333, 0.7139212 ,\n",
       "        0.71465699]),\n",
       " 'std_test_accuracy': array([0.00284415, 0.00308928, 0.00211201, 0.00268051, 0.00227539,\n",
       "        0.00222803]),\n",
       " 'rank_test_accuracy': array([5, 3, 6, 4, 2, 1])}"
      ]
     },
     "execution_count": 101,
     "metadata": {},
     "output_type": "execute_result"
    }
   ],
   "source": [
    "# Full results of the GridSearchCV\n",
    "\n",
    "GS.cv_results_"
   ]
  },
  {
   "cell_type": "code",
   "execution_count": 107,
   "id": "9dd53cf0-0e9f-4f4e-aee9-84122bbdebf6",
   "metadata": {},
   "outputs": [
    {
     "data": {
      "image/png": "[encoded data removed]",
      "text/plain": [
       "<Figure size 640x480 with 1 Axes>"
      ]
     },
     "metadata": {},
     "output_type": "display_data"
    }
   ],
   "source": [
    "### Create a scatter plot of the 6 combinations of parameter values\n",
    "\n",
    "df = pd.DataFrame(GS.cv_results_)\n",
    "\n",
    "#Group the points by Logistic Regression (log_loss) vs Linear SVC (hinge)\n",
    "groups = df.groupby(\"param_loss\")\n",
    "\n",
    "fig, ax = plt.subplots()\n",
    "ax.margins(0.05)\n",
    "for name, group in groups:\n",
    "    ax.plot(group.param_penalty, group.mean_test_accuracy, marker='o', linestyle='', ms=12, label=name) #place accuracy on the Y axis, penalty on the X axis \n",
    "ax.legend()\n",
    "ax.set(xlabel='Penalty Setting', ylabel='CV Accuracy')\n",
    "plt.show()\n"
   ]
  },
  {
   "cell_type": "code",
   "execution_count": 53,
   "id": "b274ce0d-d344-4798-8a56-47d529a041e0",
   "metadata": {},
   "outputs": [
    {
     "data": {
      "image/png": "[encoded data removed]",
      "text/plain": [
       "<Figure size 640x480 with 2 Axes>"
      ]
     },
     "metadata": {},
     "output_type": "display_data"
    }
   ],
   "source": [
    "### Graph from original run of GridSearchCV with max_iter in search space\n",
    "## data from old GridSearchCV has been overwritten, do NOT rerun this cell\n",
    "\n",
    "ax2 = dfhinge.plot.scatter(x=\"param_penalty\",y=\"mean_test_accuracy\",c=\"param_max_iter\",colormap='viridis')"
   ]
  },
  {
   "cell_type": "code",
   "execution_count": 56,
   "id": "20340e07-d2e0-4c94-93cc-b72be508d237",
   "metadata": {},
   "outputs": [],
   "source": [
    "# Finally, create one last SGDClassifier with the best parameters identified earlier\n",
    "\n",
    "clfBest = SGDClassifier(loss=\"log_loss\",max_iter=1000,penalty=\"elasticnet\")"
   ]
  },
  {
   "cell_type": "code",
   "execution_count": 57,
   "id": "4fad4df2-4323-4611-afd0-5b4124ac7241",
   "metadata": {},
   "outputs": [
    {
     "name": "stdout",
     "output_type": "stream",
     "text": [
      "CPU times: total: 13.5 s\n",
      "Wall time: 13.5 s\n"
     ]
    },
    {
     "data": {
      "text/plain": [
       "0.7137853583814532"
      ]
     },
     "execution_count": 57,
     "metadata": {},
     "output_type": "execute_result"
    }
   ],
   "source": [
    "# Fit the model to training data, then test it on testing data\n",
    "\n",
    "%%time\n",
    "clfBest.fit(X_train, Y_train)\n",
    "\n",
    "predict = clfBest.predict(X_test)\n",
    "\n",
    "accuracy = accuracy_score(Y_test, predict)\n",
    "accuracy"
   ]
  },
  {
   "cell_type": "code",
   "execution_count": 58,
   "id": "75f101c5-9399-4c70-be5b-fe2fe7c70e08",
   "metadata": {},
   "outputs": [],
   "source": [
    "# Create the confusion matrix and assign it to variable for plotting\n",
    "from sklearn.metrics import confusion_matrix\n",
    "\n",
    "final_matrix = confusion_matrix(Y_test, predict)"
   ]
  },
  {
   "cell_type": "code",
   "execution_count": 59,
   "id": "57ae2be0-aeb1-4d56-96c5-9d9e33f14833",
   "metadata": {},
   "outputs": [
    {
     "data": {
      "text/plain": [
       "[Text(0.5, 23.52222222222222, 'Predicted Values'),\n",
       " Text(50.722222222222214, 0.5, 'Actual Values')]"
      ]
     },
     "execution_count": 59,
     "metadata": {},
     "output_type": "execute_result"
    },
    {
     "data": {
      "image/png": "[encoded data removed]",
      "text/plain": [
       "<Figure size 640x480 with 2 Axes>"
      ]
     },
     "metadata": {},
     "output_type": "display_data"
    }
   ],
   "source": [
    "# import the seaborn library to create a heatmap\n",
    "\n",
    "import seaborn as sn\n",
    "labels = [\"S\",\"L\",\"P\",\"C\",\"A\",\"D\",\"K\"]\n",
    "cf_matrix = sn.heatmap(final_matrix, annot=True, fmt='g', xticklabels=labels, yticklabels=labels)\n",
    "cf_matrix.set(xlabel='Predicted Values', ylabel='Actual Values')"
   ]
  },
  {
   "cell_type": "code",
   "execution_count": 60,
   "id": "dfa84f2b-272f-4d7a-a8e1-e86903a096c0",
   "metadata": {},
   "outputs": [
    {
     "name": "stdout",
     "output_type": "stream",
     "text": [
      "              precision    recall  f1-score   support\n",
      "\n",
      "           1       0.71      0.68      0.70     42479\n",
      "           2       0.73      0.80      0.77     56554\n",
      "           3       0.62      0.85      0.72      7148\n",
      "           4       0.59      0.37      0.46       559\n",
      "           5       0.11      0.00      0.00      1938\n",
      "           6       0.37      0.05      0.09      3392\n",
      "           7       0.71      0.50      0.59      4133\n",
      "\n",
      "    accuracy                           0.71    116203\n",
      "   macro avg       0.55      0.47      0.47    116203\n",
      "weighted avg       0.70      0.71      0.70    116203\n",
      "\n"
     ]
    }
   ],
   "source": [
    "# Lastly, print the classification report for class precision comparison in the report\n",
    "from sklearn.metrics import classification_report\n",
    "\n",
    "print(classification_report(Y_test, predict, zero_division=1))"
   ]
  }
 ],
 "metadata": {
  "kernelspec": {
   "display_name": "Python 3 (ipykernel)",
   "language": "python",
   "name": "python3"
  },
  "language_info": {
   "codemirror_mode": {
    "name": "ipython",
    "version": 3
   },
   "file_extension": ".py",
   "mimetype": "text/x-python",
   "name": "python",
   "nbconvert_exporter": "python",
   "pygments_lexer": "ipython3",
   "version": "3.9.12"
  }
 },
 "nbformat": 4,
 "nbformat_minor": 5
}
